{
 "cells": [
  {
   "cell_type": "markdown",
   "metadata": {},
   "source": [
    "We will use this Jupyter Notebook to explore simple commands that we'll use in this class.\n",
    "First, lets get familiar with some comands.\n",
    "Python can calculate things for us:"
   ]
  },
  {
   "cell_type": "code",
   "execution_count": null,
   "metadata": {},
   "outputs": [],
   "source": [
    "1+1"
   ]
  },
  {
   "cell_type": "markdown",
   "metadata": {},
   "source": [
    "Note that we got what we wanted. Python also repsects mathematical rules:"
   ]
  },
  {
   "cell_type": "code",
   "execution_count": null,
   "metadata": {},
   "outputs": [],
   "source": [
    "3+1*4"
   ]
  },
  {
   "cell_type": "code",
   "execution_count": null,
   "metadata": {},
   "outputs": [],
   "source": [
    "3+1*5"
   ]
  },
  {
   "cell_type": "markdown",
   "metadata": {},
   "source": [
    "If we use parentheses, it's possible to change the command order:"
   ]
  },
  {
   "cell_type": "code",
   "execution_count": null,
   "metadata": {},
   "outputs": [],
   "source": [
    "(3+1)*4"
   ]
  },
  {
   "cell_type": "code",
   "execution_count": null,
   "metadata": {},
   "outputs": [],
   "source": [
    "3+(1*4)"
   ]
  },
  {
   "cell_type": "markdown",
   "metadata": {},
   "source": [
    "So far we've used commands directly inputing numbers, but when we deal with data, we have columns (vectors) or matrices filled with data. How to deal with that? We can give names to different variables:"
   ]
  },
  {
   "cell_type": "code",
   "execution_count": null,
   "metadata": {},
   "outputs": [],
   "source": [
    "a = 3\n",
    "b = 4\n",
    "c = 1"
   ]
  },
  {
   "cell_type": "code",
   "execution_count": null,
   "metadata": {},
   "outputs": [],
   "source": [
    "a*b+c"
   ]
  },
  {
   "cell_type": "markdown",
   "metadata": {},
   "source": [
    "We can also give various numbers to a single variable:"
   ]
  },
  {
   "cell_type": "code",
   "execution_count": null,
   "metadata": {},
   "outputs": [],
   "source": [
    "a = [1,2,3,7]"
   ]
  },
  {
   "cell_type": "code",
   "execution_count": null,
   "metadata": {},
   "outputs": [],
   "source": [
    "a"
   ]
  },
  {
   "cell_type": "markdown",
   "metadata": {},
   "source": [
    "You just created a variable with a few attributes. Python has names for each type of variable. Find out which type by typing the following commands:"
   ]
  },
  {
   "cell_type": "code",
   "execution_count": null,
   "metadata": {},
   "outputs": [],
   "source": [
    "type (a)"
   ]
  },
  {
   "cell_type": "markdown",
   "metadata": {},
   "source": [
    "Let's not waste too much time with this. We don't need to deal with different variables in python for now.\n",
    "\n",
    "Now let's try an operation, let's multiply each number in the list \\\"a\\\" by 3 and see what happens:"
   ]
  },
  {
   "cell_type": "markdown",
   "metadata": {},
   "source": [
    "a*3"
   ]
  },
  {
   "cell_type": "markdown",
   "metadata": {},
   "source": [
    "Well, that's not what I expected. We're not working with the most intuitive tools in python. In this case, python thought we wanted to create a list 3x as large with repeated elements from a. \n",
    "\n",
    "To use more intuitive functions, we can use libraries made for python, suchas numpy"
   ]
  },
  {
   "cell_type": "code",
   "execution_count": null,
   "metadata": {},
   "outputs": [],
   "source": [
    "import numpy as np"
   ]
  },
  {
   "cell_type": "markdown",
   "metadata": {},
   "source": [
    "What we did here was import the numpy library (it contains the commands we are interested in) and we gave these libraries the name np. Every time we want to use the function, we have to use the prefix np. Look:"
   ]
  },
  {
   "cell_type": "code",
   "execution_count": null,
   "metadata": {},
   "outputs": [],
   "source": [
    "a_np = np.array(a)"
   ]
  },
  {
   "cell_type": "code",
   "execution_count": null,
   "metadata": {},
   "outputs": [],
   "source": [
    "a"
   ]
  },
  {
   "cell_type": "code",
   "execution_count": null,
   "metadata": {},
   "outputs": [],
   "source": [
    "type(a_np)"
   ]
  },
  {
   "cell_type": "markdown",
   "metadata": {},
   "source": [
    "Check that the type of variable that we created is different. WE have a numeric \"array\". Let's test multiplication"
   ]
  },
  {
   "cell_type": "code",
   "execution_count": null,
   "metadata": {},
   "outputs": [],
   "source": [
    "a_np*10"
   ]
  },
  {
   "cell_type": "markdown",
   "metadata": {},
   "source": [
    "Bingo!"
   ]
  },
  {
   "cell_type": "markdown",
   "metadata": {},
   "source": [
    "With this library we can easily give more complex commands, with equations and multiple terms.\n",
    "\n",
    "\n",
    "For example, we sometimes use exponential functions in our calculations. We can do this with numpy's np.exp command."
   ]
  },
  {
   "cell_type": "code",
   "execution_count": null,
   "metadata": {},
   "outputs": [],
   "source": [
    "exponents = [2, 3, 4, 5]\n",
    "a_exp = 10*np.exp(exponents)"
   ]
  },
  {
   "cell_type": "markdown",
   "metadata": {},
   "source": [
    "We can also add the names of each axis with simple commands:"
   ]
  },
  {
   "cell_type": "code",
   "execution_count": null,
   "metadata": {},
   "outputs": [],
   "source": [
    "import matplotlib.pyplot as plt"
   ]
  },
  {
   "cell_type": "code",
   "execution_count": null,
   "metadata": {},
   "outputs": [],
   "source": [
    "plt.plot(expoentes,a_exp)"
   ]
  },
  {
   "cell_type": "markdown",
   "metadata": {},
   "source": [
    "Podemos, ainda, adicionar os nomes de cada eixo com comandos simples:"
   ]
  },
  {
   "cell_type": "code",
   "execution_count": null,
   "metadata": {},
   "outputs": [],
   "source": [
    "plt.plot(exponents,a_exp)\n",
    "plt.xlabel('Expoentes')\n",
    "plt.ylabel('a_exp')"
   ]
  },
  {
   "cell_type": "markdown",
   "metadata": {},
   "source": [
    "We can also control the range we want to show in the plot. This is useful to standardize our graphs (tip: always use the same range for different graphs showing the same variables). To do this, we use the plt.axis command. This command accepts the minimum and maximum ranges of each axis in the following format [min_x,max_x,min_y,max_y]. See:"
   ]
  },
  {
   "cell_type": "code",
   "execution_count": null,
   "metadata": {},
   "outputs": [],
   "source": [
    "plt.plot(exponents,a_exp)\n",
    "plt.xlabel('Exponents')\n",
    "plt.ylabel('a_exp')\n",
    "plt.axis([0,6,0,1600])"
   ]
  },
  {
   "cell_type": "markdown",
   "metadata": {},
   "source": [
    "Going a little further, we might want to create a long list of values that fall within a specific range. For example, if you want to create a variable of altitude values in a range from 0 to 100 meters, you can do so with np.linspace. You also determine how many values this range will be divided into (e.g. 50). If you have any questions about how to use the functions, you can look up their documentation using the command print(library.function_name.__doc__). In this case, the command would be: print(np.linspace.__doc__). But let's go ahead and create a variable with the values:"
   ]
  },
  {
   "cell_type": "code",
   "execution_count": null,
   "metadata": {},
   "outputs": [],
   "source": [
    "zz = np.linspace(0,100,50)\n",
    "zz"
   ]
  },
  {
   "cell_type": "markdown",
   "metadata": {},
   "source": [
    "Note that the values ​​vary linearly from 0 to 100 in intervals of approximately, but not perfectly, 100/50. This is because the function includes 0 at the beginning. If we perform the same calculation from 0 to 98, we will have 50 elements in intervals of 100/50."
   ]
  },
  {
   "cell_type": "code",
   "execution_count": null,
   "metadata": {},
   "outputs": [],
   "source": [
    "zz = np.linspace(0,98,50)\n",
    "zz"
   ]
  },
  {
   "cell_type": "markdown",
   "metadata": {},
   "source": [
    "Another similar function is np.arrange or range"
   ]
  },
  {
   "cell_type": "markdown",
   "metadata": {},
   "source": [
    "Okay, moving on. We have a list of values and now we can apply them to an equation. For example, let's say there is a non-linear relationship between some environmental variable and elevation, such as atmospheric pressure (Pa). Knowing that Pa is an exponential function of elevation (h), we write an equation in the form Pa = 760exp(−0.00012h). Let's also increase the range of altitude values to get closer to atmospheric values:"
   ]
  },
  {
   "cell_type": "code",
   "execution_count": null,
   "metadata": {},
   "outputs": [],
   "source": [
    "zz=np.linspace(0,10000,100)\n",
    "Pa = 760*np.exp(-0.00012*zz)"
   ]
  },
  {
   "cell_type": "markdown",
   "metadata": {},
   "source": [
    "Now, let's plot this"
   ]
  },
  {
   "cell_type": "code",
   "execution_count": null,
   "metadata": {},
   "outputs": [],
   "source": [
    "plt.plot(zz,Pa)\n",
    "plt.xlabel('Elevação (m)')\n",
    "plt.ylabel('Pressão atmosférica (mmHg)')"
   ]
  },
  {
   "cell_type": "markdown",
   "metadata": {},
   "source": [
    "What if we want to do calculations where the value being calculated depends on the previous value? Like a time sequence, for example? We can use for loops for this. Take a break here and google \"what are for loops in python\" and we'll come back to this when needed."
   ]
  }
 ],
 "metadata": {
  "kernelspec": {
   "display_name": "Python 3 (ipykernel)",
   "language": "python",
   "name": "python3"
  },
  "language_info": {
   "codemirror_mode": {
    "name": "ipython",
    "version": 3
   },
   "file_extension": ".py",
   "mimetype": "text/x-python",
   "name": "python",
   "nbconvert_exporter": "python",
   "pygments_lexer": "ipython3",
   "version": "3.9.12"
  }
 },
 "nbformat": 4,
 "nbformat_minor": 4
}
